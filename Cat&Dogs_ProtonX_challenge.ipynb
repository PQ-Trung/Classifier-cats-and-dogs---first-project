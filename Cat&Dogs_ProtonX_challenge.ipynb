{
  "nbformat": 4,
  "nbformat_minor": 0,
  "metadata": {
    "colab": {
      "name": "Cat&Dogs-ProtonX-challenge.ipynb",
      "provenance": [],
      "collapsed_sections": []
    },
    "kernelspec": {
      "name": "python3",
      "display_name": "Python 3"
    },
    "accelerator": "GPU"
  },
  "cells": [
    {
      "cell_type": "markdown",
      "metadata": {
        "id": "O2ysDzXxCn7l",
        "colab_type": "text"
      },
      "source": [
        "### Nối Colab vô Drive "
      ]
    },
    {
      "cell_type": "code",
      "metadata": {
        "id": "Z6jXdRVg5VUx",
        "colab_type": "code",
        "outputId": "2a3606a3-cb9a-4258-bd46-477f1c79c76e",
        "colab": {
          "base_uri": "https://localhost:8080/",
          "height": 35
        }
      },
      "source": [
        "from google.colab import drive\n",
        "drive.mount('/content/drive')"
      ],
      "execution_count": 137,
      "outputs": [
        {
          "output_type": "stream",
          "text": [
            "Drive already mounted at /content/drive; to attempt to forcibly remount, call drive.mount(\"/content/drive\", force_remount=True).\n"
          ],
          "name": "stdout"
        }
      ]
    },
    {
      "cell_type": "markdown",
      "metadata": {
        "id": "WwUrX0vECubQ",
        "colab_type": "text"
      },
      "source": [
        "### Đi đến thư mục chứa data"
      ]
    },
    {
      "cell_type": "code",
      "metadata": {
        "id": "87_SRjty5jVp",
        "colab_type": "code",
        "outputId": "f8435284-0fa9-48eb-a671-29e3eb9c5c83",
        "colab": {
          "base_uri": "https://localhost:8080/",
          "height": 35
        }
      },
      "source": [
        "cd /content/drive/My Drive/Colab Notebooks/ProtonX"
      ],
      "execution_count": 138,
      "outputs": [
        {
          "output_type": "stream",
          "text": [
            "/content/drive/My Drive/Colab Notebooks/ProtonX\n"
          ],
          "name": "stdout"
        }
      ]
    },
    {
      "cell_type": "code",
      "metadata": {
        "id": "DA-hcGY85p3C",
        "colab_type": "code",
        "colab": {}
      },
      "source": [
        "# !wget --no-check-certificate \\\n",
        "#   https://storage.googleapis.com/mledu-datasets/cats_and_dogs_filtered.zip \\\n",
        "#   -O ./cats_and_dogs_filtered.zip"
      ],
      "execution_count": 0,
      "outputs": []
    },
    {
      "cell_type": "code",
      "metadata": {
        "id": "Aky1jK4d5tCK",
        "colab_type": "code",
        "colab": {}
      },
      "source": [
        "# main_folder = './'\n",
        "# !unzip -q cats_and_dogs_filtered.zip -d $main_folder"
      ],
      "execution_count": 0,
      "outputs": []
    },
    {
      "cell_type": "code",
      "metadata": {
        "id": "KDoYzXA17GaS",
        "colab_type": "code",
        "outputId": "9c265175-fd03-4ccf-e669-58365fcf4c7c",
        "colab": {
          "base_uri": "https://localhost:8080/",
          "height": 35
        }
      },
      "source": [
        "cd cats_and_dogs_filtered"
      ],
      "execution_count": 141,
      "outputs": [
        {
          "output_type": "stream",
          "text": [
            "/content/drive/My Drive/Colab Notebooks/ProtonX/cats_and_dogs_filtered\n"
          ],
          "name": "stdout"
        }
      ]
    },
    {
      "cell_type": "code",
      "metadata": {
        "id": "cmMO0PZc6LuI",
        "colab_type": "code",
        "colab": {}
      },
      "source": [
        "train_folder = './train'"
      ],
      "execution_count": 0,
      "outputs": []
    },
    {
      "cell_type": "code",
      "metadata": {
        "id": "Awv7UK_E6f83",
        "colab_type": "code",
        "colab": {}
      },
      "source": [
        "valid_folder = './validation'"
      ],
      "execution_count": 0,
      "outputs": []
    },
    {
      "cell_type": "markdown",
      "metadata": {
        "id": "gqfiRE3vDBQr",
        "colab_type": "text"
      },
      "source": [
        "### [TODO 1] Xây dựng mô hình Deep Learning"
      ]
    },
    {
      "cell_type": "code",
      "metadata": {
        "id": "xchCSGIzDzbz",
        "colab_type": "code",
        "colab": {}
      },
      "source": [
        "train_dog_dir = 'train/dogs'\n",
        "train_cat_dir = 'train/cats'\n",
        "valid_dog_dir = 'validation/dogs'\n",
        "valid_cat_dir = 'validation/cats'"
      ],
      "execution_count": 0,
      "outputs": []
    },
    {
      "cell_type": "code",
      "metadata": {
        "id": "nZoQ8SQeGUw1",
        "colab_type": "code",
        "colab": {}
      },
      "source": [
        "# Data Preprocessing\n",
        "\n",
        "from tensorflow.keras.preprocessing.image import ImageDataGenerator\n",
        "\n",
        "train_generator = ImageDataGenerator(rescale = 1.0/255.0, rotation_range= 0.2, zoom_range = 0.1,\n",
        "                                    # featurewise_center=True, featurewise_std_normalization=True,\n",
        "                                    width_shift_range = 0.2, height_shift_range = 0.2,\n",
        "                                    horizontal_flip = True)\n",
        "\n",
        "valid_generator = ImageDataGenerator(rescale = 1.0/255.0)"
      ],
      "execution_count": 0,
      "outputs": []
    },
    {
      "cell_type": "code",
      "metadata": {
        "id": "6tQw67oMIf6E",
        "colab_type": "code",
        "colab": {}
      },
      "source": [
        "size_image = (128,128)\n",
        "batch_size = 64"
      ],
      "execution_count": 0,
      "outputs": []
    },
    {
      "cell_type": "code",
      "metadata": {
        "id": "_5ACdQaRGZ7N",
        "colab_type": "code",
        "outputId": "ebfc1fa9-aa67-48e7-dc44-b809ddb1ff0f",
        "colab": {
          "base_uri": "https://localhost:8080/",
          "height": 53
        }
      },
      "source": [
        "train_generator_data = train_generator.flow_from_directory(\n",
        "    train_folder, target_size = size_image , batch_size = batch_size, shuffle = True,\n",
        "    class_mode = 'binary')\n",
        "\n",
        "valid_generator_data = valid_generator.flow_from_directory(\n",
        "    valid_folder, target_size = size_image, batch_size = batch_size,\n",
        "    class_mode = 'binary')"
      ],
      "execution_count": 147,
      "outputs": [
        {
          "output_type": "stream",
          "text": [
            "Found 2000 images belonging to 2 classes.\n",
            "Found 1000 images belonging to 2 classes.\n"
          ],
          "name": "stdout"
        }
      ]
    },
    {
      "cell_type": "code",
      "metadata": {
        "id": "JsQrsxFyGwTi",
        "colab_type": "code",
        "colab": {}
      },
      "source": [
        "import tensorflow as tf\n",
        "from tensorflow.keras.models import Sequential\n",
        "from tensorflow.keras.layers import AveragePooling2D, MaxPooling2D, BatchNormalization\n",
        "from tensorflow.keras.layers import Conv2D, Activation, Dropout\n",
        "from tensorflow.keras.layers import Flatten, Input, Dense, concatenate\n",
        "from tensorflow.keras.optimizers import RMSprop, Adam, SGD"
      ],
      "execution_count": 0,
      "outputs": []
    },
    {
      "cell_type": "code",
      "metadata": {
        "id": "8avSkjauGxLa",
        "colab_type": "code",
        "colab": {}
      },
      "source": [
        "model = Sequential()\n",
        "\n",
        "model.add(Conv2D(32,(3,3), padding = 'same', input_shape = size_image + (3,), kernel_regularizer=tf.keras.regularizers.l2(0.001)))\n",
        "model.add(Activation('relu'))\n",
        "model.add(BatchNormalization())\n",
        "model.add(Conv2D(32,(3,3), padding = 'same', kernel_regularizer=tf.keras.regularizers.l2(0.001)))\n",
        "model.add(Activation('relu'))\n",
        "model.add(BatchNormalization())\n",
        "model.add(MaxPooling2D(pool_size = (2,2)))\n",
        "# model.add(tf.keras.layers.Dropout(rate = 0.25))\n",
        "\n",
        "model.add(Conv2D(64,(3,3), padding = 'same', kernel_regularizer=tf.keras.regularizers.l2(0.001)))\n",
        "model.add(Activation('relu'))\n",
        "model.add(BatchNormalization())\n",
        "model.add(Conv2D(64,(3,3), padding = 'same', kernel_regularizer=tf.keras.regularizers.l2(0.001)))\n",
        "model.add(Activation('relu'))\n",
        "model.add(BatchNormalization())\n",
        "model.add(MaxPooling2D(pool_size = (2,2)))\n",
        "model.add(tf.keras.layers.Dropout(rate = 0.25))\n",
        "\n",
        "model.add(Conv2D(128,(3,3), padding = 'same', kernel_regularizer=tf.keras.regularizers.l2(0.001)))\n",
        "model.add(Activation('relu'))\n",
        "model.add(BatchNormalization())\n",
        "model.add(Conv2D(128,(3,3), padding = 'same', kernel_regularizer=tf.keras.regularizers.l2(0.001)))\n",
        "model.add(Activation('relu'))\n",
        "model.add(BatchNormalization())\n",
        "model.add(MaxPooling2D(pool_size = (2,2)))\n",
        "# model.add(tf.keras.layers.Dropout(rate = 0.25))\n",
        "\n",
        "model.add(Conv2D(256,(3,3), padding = 'same', kernel_regularizer=tf.keras.regularizers.l2(0.001)))\n",
        "model.add(Activation('relu'))\n",
        "model.add(BatchNormalization())\n",
        "model.add(Conv2D(256,(3,3), padding = 'same', kernel_regularizer=tf.keras.regularizers.l2(0.001)))\n",
        "model.add(Activation('relu'))\n",
        "model.add(BatchNormalization())\n",
        "model.add(MaxPooling2D(pool_size = (2,2)))\n",
        "model.add(tf.keras.layers.Dropout(rate = 0.25))\n",
        "\n",
        "model.add(Flatten())\n",
        "model.add(Dense(1024, activation = 'relu'))\n",
        "model.add(BatchNormalization())\n",
        "model.add(Dense(1, activation = 'sigmoid'))"
      ],
      "execution_count": 0,
      "outputs": []
    },
    {
      "cell_type": "code",
      "metadata": {
        "id": "7mn8fuoWIdhK",
        "colab_type": "code",
        "colab": {}
      },
      "source": [
        ""
      ],
      "execution_count": 0,
      "outputs": []
    },
    {
      "cell_type": "code",
      "metadata": {
        "id": "oCtOFRRfOgfq",
        "colab_type": "code",
        "outputId": "fae6557f-e5f0-4c7b-bcb0-08bcdb785d8c",
        "colab": {
          "base_uri": "https://localhost:8080/",
          "height": 1000
        }
      },
      "source": [
        "model.summary()"
      ],
      "execution_count": 150,
      "outputs": [
        {
          "output_type": "stream",
          "text": [
            "Model: \"sequential_9\"\n",
            "_________________________________________________________________\n",
            "Layer (type)                 Output Shape              Param #   \n",
            "=================================================================\n",
            "conv2d_64 (Conv2D)           (None, 128, 128, 32)      896       \n",
            "_________________________________________________________________\n",
            "activation_64 (Activation)   (None, 128, 128, 32)      0         \n",
            "_________________________________________________________________\n",
            "batch_normalization_72 (Batc (None, 128, 128, 32)      128       \n",
            "_________________________________________________________________\n",
            "conv2d_65 (Conv2D)           (None, 128, 128, 32)      9248      \n",
            "_________________________________________________________________\n",
            "activation_65 (Activation)   (None, 128, 128, 32)      0         \n",
            "_________________________________________________________________\n",
            "batch_normalization_73 (Batc (None, 128, 128, 32)      128       \n",
            "_________________________________________________________________\n",
            "max_pooling2d_32 (MaxPooling (None, 64, 64, 32)        0         \n",
            "_________________________________________________________________\n",
            "conv2d_66 (Conv2D)           (None, 64, 64, 64)        18496     \n",
            "_________________________________________________________________\n",
            "activation_66 (Activation)   (None, 64, 64, 64)        0         \n",
            "_________________________________________________________________\n",
            "batch_normalization_74 (Batc (None, 64, 64, 64)        256       \n",
            "_________________________________________________________________\n",
            "conv2d_67 (Conv2D)           (None, 64, 64, 64)        36928     \n",
            "_________________________________________________________________\n",
            "activation_67 (Activation)   (None, 64, 64, 64)        0         \n",
            "_________________________________________________________________\n",
            "batch_normalization_75 (Batc (None, 64, 64, 64)        256       \n",
            "_________________________________________________________________\n",
            "max_pooling2d_33 (MaxPooling (None, 32, 32, 64)        0         \n",
            "_________________________________________________________________\n",
            "dropout_16 (Dropout)         (None, 32, 32, 64)        0         \n",
            "_________________________________________________________________\n",
            "conv2d_68 (Conv2D)           (None, 32, 32, 128)       73856     \n",
            "_________________________________________________________________\n",
            "activation_68 (Activation)   (None, 32, 32, 128)       0         \n",
            "_________________________________________________________________\n",
            "batch_normalization_76 (Batc (None, 32, 32, 128)       512       \n",
            "_________________________________________________________________\n",
            "conv2d_69 (Conv2D)           (None, 32, 32, 128)       147584    \n",
            "_________________________________________________________________\n",
            "activation_69 (Activation)   (None, 32, 32, 128)       0         \n",
            "_________________________________________________________________\n",
            "batch_normalization_77 (Batc (None, 32, 32, 128)       512       \n",
            "_________________________________________________________________\n",
            "max_pooling2d_34 (MaxPooling (None, 16, 16, 128)       0         \n",
            "_________________________________________________________________\n",
            "conv2d_70 (Conv2D)           (None, 16, 16, 256)       295168    \n",
            "_________________________________________________________________\n",
            "activation_70 (Activation)   (None, 16, 16, 256)       0         \n",
            "_________________________________________________________________\n",
            "batch_normalization_78 (Batc (None, 16, 16, 256)       1024      \n",
            "_________________________________________________________________\n",
            "conv2d_71 (Conv2D)           (None, 16, 16, 256)       590080    \n",
            "_________________________________________________________________\n",
            "activation_71 (Activation)   (None, 16, 16, 256)       0         \n",
            "_________________________________________________________________\n",
            "batch_normalization_79 (Batc (None, 16, 16, 256)       1024      \n",
            "_________________________________________________________________\n",
            "max_pooling2d_35 (MaxPooling (None, 8, 8, 256)         0         \n",
            "_________________________________________________________________\n",
            "dropout_17 (Dropout)         (None, 8, 8, 256)         0         \n",
            "_________________________________________________________________\n",
            "flatten_8 (Flatten)          (None, 16384)             0         \n",
            "_________________________________________________________________\n",
            "dense_16 (Dense)             (None, 1024)              16778240  \n",
            "_________________________________________________________________\n",
            "batch_normalization_80 (Batc (None, 1024)              4096      \n",
            "_________________________________________________________________\n",
            "dense_17 (Dense)             (None, 1)                 1025      \n",
            "=================================================================\n",
            "Total params: 17,959,457\n",
            "Trainable params: 17,955,489\n",
            "Non-trainable params: 3,968\n",
            "_________________________________________________________________\n"
          ],
          "name": "stdout"
        }
      ]
    },
    {
      "cell_type": "code",
      "metadata": {
        "id": "UJlSL2ZFHKQP",
        "colab_type": "code",
        "colab": {}
      },
      "source": [
        "model.compile(\n",
        "    optimizer = RMSprop(learning_rate = 0.001, momentum = 0.001),\n",
        "    # optimizer = Adam(),\n",
        "    loss = 'binary_crossentropy',\n",
        "    metrics = ['accuracy'])"
      ],
      "execution_count": 0,
      "outputs": []
    },
    {
      "cell_type": "markdown",
      "metadata": {
        "id": "FtmVP00mDbLG",
        "colab_type": "text"
      },
      "source": [
        "### [TODO 2] Thực hiện training"
      ]
    },
    {
      "cell_type": "code",
      "metadata": {
        "id": "b61i-9KxFzzA",
        "colab_type": "code",
        "colab": {}
      },
      "source": [
        "import tensorflow as tf\n",
        "\n",
        "DESIRED_ACCURACY = 0.9\n",
        "\n",
        "class myCallback(tf.keras.callbacks.Callback):\n",
        "  def on_epoch_end(self, epoch, logs={}):\n",
        "    if(logs.get('val_accuracy')>DESIRED_ACCURACY):\n",
        "      print(\"\\nReached 90% accuracy so cancelling training!\")\n",
        "      self.model.stop_training = True\n",
        "\n",
        "callbacks = myCallback()"
      ],
      "execution_count": 0,
      "outputs": []
    },
    {
      "cell_type": "code",
      "metadata": {
        "id": "TbLLWcr7Dzuu",
        "colab_type": "code",
        "outputId": "9238e5fc-26ec-4515-9e91-ed7ec5a4b793",
        "colab": {
          "base_uri": "https://localhost:8080/",
          "height": 845
        }
      },
      "source": [
        "history = model.fit(\n",
        "    train_generator_data,\n",
        "    steps_per_epoch = 250, \n",
        "    epochs = 50, shuffle = True,\n",
        "    validation_data = valid_generator_data,\n",
        "    validation_steps = 100,\n",
        "    callbacks=[callbacks])"
      ],
      "execution_count": 153,
      "outputs": [
        {
          "output_type": "stream",
          "text": [
            "Epoch 1/50\n",
            "250/250 [==============================] - 136s 543ms/step - loss: 1.3537 - accuracy: 0.6180 - val_loss: 1.1444 - val_accuracy: 0.5006\n",
            "Epoch 2/50\n",
            "250/250 [==============================] - 134s 538ms/step - loss: 0.7516 - accuracy: 0.6954 - val_loss: 0.7313 - val_accuracy: 0.6333\n",
            "Epoch 3/50\n",
            "250/250 [==============================] - 134s 535ms/step - loss: 0.6138 - accuracy: 0.7500 - val_loss: 0.9519 - val_accuracy: 0.5806\n",
            "Epoch 4/50\n",
            "250/250 [==============================] - 134s 535ms/step - loss: 0.5428 - accuracy: 0.7837 - val_loss: 0.5590 - val_accuracy: 0.7754\n",
            "Epoch 5/50\n",
            "250/250 [==============================] - 134s 535ms/step - loss: 0.4880 - accuracy: 0.8207 - val_loss: 0.5217 - val_accuracy: 0.8039\n",
            "Epoch 6/50\n",
            "250/250 [==============================] - 135s 538ms/step - loss: 0.4326 - accuracy: 0.8466 - val_loss: 0.4783 - val_accuracy: 0.8215\n",
            "Epoch 7/50\n",
            "250/250 [==============================] - 135s 540ms/step - loss: 0.3920 - accuracy: 0.8713 - val_loss: 0.5648 - val_accuracy: 0.8054\n",
            "Epoch 8/50\n",
            "250/250 [==============================] - 134s 537ms/step - loss: 0.3564 - accuracy: 0.8896 - val_loss: 0.4714 - val_accuracy: 0.8278\n",
            "Epoch 9/50\n",
            "250/250 [==============================] - 135s 541ms/step - loss: 0.3368 - accuracy: 0.9034 - val_loss: 0.5829 - val_accuracy: 0.8293\n",
            "Epoch 10/50\n",
            "250/250 [==============================] - 135s 540ms/step - loss: 0.3095 - accuracy: 0.9173 - val_loss: 0.6005 - val_accuracy: 0.7821\n",
            "Epoch 11/50\n",
            "250/250 [==============================] - 135s 541ms/step - loss: 0.3021 - accuracy: 0.9236 - val_loss: 0.5168 - val_accuracy: 0.8726\n",
            "Epoch 12/50\n",
            "250/250 [==============================] - 134s 537ms/step - loss: 0.2794 - accuracy: 0.9325 - val_loss: 0.5849 - val_accuracy: 0.8298\n",
            "Epoch 13/50\n",
            "250/250 [==============================] - 135s 538ms/step - loss: 0.2825 - accuracy: 0.9356 - val_loss: 0.9048 - val_accuracy: 0.7487\n",
            "Epoch 14/50\n",
            "250/250 [==============================] - 135s 541ms/step - loss: 0.2638 - accuracy: 0.9440 - val_loss: 0.4236 - val_accuracy: 0.8894\n",
            "Epoch 15/50\n",
            "250/250 [==============================] - 134s 538ms/step - loss: 0.2586 - accuracy: 0.9440 - val_loss: 0.5092 - val_accuracy: 0.8462\n",
            "Epoch 16/50\n",
            "250/250 [==============================] - 135s 538ms/step - loss: 0.2564 - accuracy: 0.9492 - val_loss: 0.8446 - val_accuracy: 0.7561\n",
            "Epoch 17/50\n",
            "250/250 [==============================] - 134s 538ms/step - loss: 0.2439 - accuracy: 0.9556 - val_loss: 0.4678 - val_accuracy: 0.8843\n",
            "Epoch 18/50\n",
            "250/250 [==============================] - 135s 541ms/step - loss: 0.2457 - accuracy: 0.9536 - val_loss: 0.4265 - val_accuracy: 0.8966\n",
            "Epoch 19/50\n",
            "250/250 [==============================] - 134s 538ms/step - loss: 0.2499 - accuracy: 0.9554 - val_loss: 0.4747 - val_accuracy: 0.8664\n",
            "Epoch 20/50\n",
            "250/250 [==============================] - 134s 536ms/step - loss: 0.2353 - accuracy: 0.9559 - val_loss: 0.4905 - val_accuracy: 0.8675\n",
            "Epoch 21/50\n",
            "250/250 [==============================] - 134s 536ms/step - loss: 0.2317 - accuracy: 0.9602 - val_loss: 0.4881 - val_accuracy: 0.8684\n",
            "Epoch 22/50\n",
            "250/250 [==============================] - ETA: 0s - loss: 0.2307 - accuracy: 0.9594\n",
            "Reached 90% accuracy so cancelling training!\n",
            "250/250 [==============================] - 134s 537ms/step - loss: 0.2307 - accuracy: 0.9594 - val_loss: 0.3807 - val_accuracy: 0.9036\n"
          ],
          "name": "stdout"
        }
      ]
    },
    {
      "cell_type": "markdown",
      "metadata": {
        "id": "d_iga1kDDnIF",
        "colab_type": "text"
      },
      "source": [
        "### [TODO 3] Thực hiện load file và dự đoán"
      ]
    },
    {
      "cell_type": "code",
      "metadata": {
        "id": "MqyiEs7bD0dc",
        "colab_type": "code",
        "colab": {}
      },
      "source": [
        "model.save('catdog.h5')"
      ],
      "execution_count": 0,
      "outputs": []
    },
    {
      "cell_type": "code",
      "metadata": {
        "id": "YiaTvfVlXJsI",
        "colab_type": "code",
        "colab": {}
      },
      "source": [
        "saved_model =  tf.keras.models.load_model('catdog.h5')"
      ],
      "execution_count": 0,
      "outputs": []
    },
    {
      "cell_type": "code",
      "metadata": {
        "id": "SMON4QLYXckl",
        "colab_type": "code",
        "colab": {
          "base_uri": "https://localhost:8080/",
          "height": 432
        },
        "outputId": "c9d3ab9b-d5be-45cf-ca45-9371fa3b7524"
      },
      "source": [
        "import numpy as np\n",
        "from google.colab import files\n",
        "from keras.preprocessing import image\n",
        "\n",
        "uploaded = files.upload()\n",
        "\n",
        "for fn in uploaded.keys():\n",
        "  path = './' + fn\n",
        "  img = image.load_img(path, target_size = (128,128))\n",
        "  x = image.img_to_array(img)/255.0\n",
        "\n",
        "  x = np.expand_dims(x, axis = 0)\n",
        "\n",
        "  image = np.vstack([x])\n",
        "\n",
        "  classes = saved_model.predict(image, batch_size=10)\n",
        "\n",
        "  if classes[0] > 0.5:\n",
        "    print(fn+ ' is a dog.')\n",
        "  else:\n",
        "    print(fn+ ' is a cat.')"
      ],
      "execution_count": 156,
      "outputs": [
        {
          "output_type": "stream",
          "text": [
            "Using TensorFlow backend.\n"
          ],
          "name": "stderr"
        },
        {
          "output_type": "display_data",
          "data": {
            "text/html": [
              "\n",
              "     <input type=\"file\" id=\"files-c6ee5391-8505-4827-96e4-4941894a5755\" name=\"files[]\" multiple disabled />\n",
              "     <output id=\"result-c6ee5391-8505-4827-96e4-4941894a5755\">\n",
              "      Upload widget is only available when the cell has been executed in the\n",
              "      current browser session. Please rerun this cell to enable.\n",
              "      </output>\n",
              "      <script src=\"/nbextensions/google.colab/files.js\"></script> "
            ],
            "text/plain": [
              "<IPython.core.display.HTML object>"
            ]
          },
          "metadata": {
            "tags": []
          }
        },
        {
          "output_type": "error",
          "ename": "MessageError",
          "evalue": "ignored",
          "traceback": [
            "\u001b[0;31m---------------------------------------------------------------------------\u001b[0m",
            "\u001b[0;31mMessageError\u001b[0m                              Traceback (most recent call last)",
            "\u001b[0;32m<ipython-input-156-8c25b82a5047>\u001b[0m in \u001b[0;36m<module>\u001b[0;34m()\u001b[0m\n\u001b[1;32m      3\u001b[0m \u001b[0;32mfrom\u001b[0m \u001b[0mkeras\u001b[0m\u001b[0;34m.\u001b[0m\u001b[0mpreprocessing\u001b[0m \u001b[0;32mimport\u001b[0m \u001b[0mimage\u001b[0m\u001b[0;34m\u001b[0m\u001b[0;34m\u001b[0m\u001b[0m\n\u001b[1;32m      4\u001b[0m \u001b[0;34m\u001b[0m\u001b[0m\n\u001b[0;32m----> 5\u001b[0;31m \u001b[0muploaded\u001b[0m \u001b[0;34m=\u001b[0m \u001b[0mfiles\u001b[0m\u001b[0;34m.\u001b[0m\u001b[0mupload\u001b[0m\u001b[0;34m(\u001b[0m\u001b[0;34m)\u001b[0m\u001b[0;34m\u001b[0m\u001b[0;34m\u001b[0m\u001b[0m\n\u001b[0m\u001b[1;32m      6\u001b[0m \u001b[0;34m\u001b[0m\u001b[0m\n\u001b[1;32m      7\u001b[0m \u001b[0;32mfor\u001b[0m \u001b[0mfn\u001b[0m \u001b[0;32min\u001b[0m \u001b[0muploaded\u001b[0m\u001b[0;34m.\u001b[0m\u001b[0mkeys\u001b[0m\u001b[0;34m(\u001b[0m\u001b[0;34m)\u001b[0m\u001b[0;34m:\u001b[0m\u001b[0;34m\u001b[0m\u001b[0;34m\u001b[0m\u001b[0m\n",
            "\u001b[0;32m/usr/local/lib/python3.6/dist-packages/google/colab/files.py\u001b[0m in \u001b[0;36mupload\u001b[0;34m()\u001b[0m\n\u001b[1;32m     62\u001b[0m   result = _output.eval_js(\n\u001b[1;32m     63\u001b[0m       'google.colab._files._uploadFiles(\"{input_id}\", \"{output_id}\")'.format(\n\u001b[0;32m---> 64\u001b[0;31m           input_id=input_id, output_id=output_id))\n\u001b[0m\u001b[1;32m     65\u001b[0m   \u001b[0mfiles\u001b[0m \u001b[0;34m=\u001b[0m \u001b[0m_collections\u001b[0m\u001b[0;34m.\u001b[0m\u001b[0mdefaultdict\u001b[0m\u001b[0;34m(\u001b[0m\u001b[0m_six\u001b[0m\u001b[0;34m.\u001b[0m\u001b[0mbinary_type\u001b[0m\u001b[0;34m)\u001b[0m\u001b[0;34m\u001b[0m\u001b[0;34m\u001b[0m\u001b[0m\n\u001b[1;32m     66\u001b[0m   \u001b[0;31m# Mapping from original filename to filename as saved locally.\u001b[0m\u001b[0;34m\u001b[0m\u001b[0;34m\u001b[0m\u001b[0;34m\u001b[0m\u001b[0m\n",
            "\u001b[0;32m/usr/local/lib/python3.6/dist-packages/google/colab/output/_js.py\u001b[0m in \u001b[0;36meval_js\u001b[0;34m(script, ignore_result)\u001b[0m\n\u001b[1;32m     37\u001b[0m   \u001b[0;32mif\u001b[0m \u001b[0mignore_result\u001b[0m\u001b[0;34m:\u001b[0m\u001b[0;34m\u001b[0m\u001b[0;34m\u001b[0m\u001b[0m\n\u001b[1;32m     38\u001b[0m     \u001b[0;32mreturn\u001b[0m\u001b[0;34m\u001b[0m\u001b[0;34m\u001b[0m\u001b[0m\n\u001b[0;32m---> 39\u001b[0;31m   \u001b[0;32mreturn\u001b[0m \u001b[0m_message\u001b[0m\u001b[0;34m.\u001b[0m\u001b[0mread_reply_from_input\u001b[0m\u001b[0;34m(\u001b[0m\u001b[0mrequest_id\u001b[0m\u001b[0;34m)\u001b[0m\u001b[0;34m\u001b[0m\u001b[0;34m\u001b[0m\u001b[0m\n\u001b[0m\u001b[1;32m     40\u001b[0m \u001b[0;34m\u001b[0m\u001b[0m\n\u001b[1;32m     41\u001b[0m \u001b[0;34m\u001b[0m\u001b[0m\n",
            "\u001b[0;32m/usr/local/lib/python3.6/dist-packages/google/colab/_message.py\u001b[0m in \u001b[0;36mread_reply_from_input\u001b[0;34m(message_id, timeout_sec)\u001b[0m\n\u001b[1;32m    104\u001b[0m         reply.get('colab_msg_id') == message_id):\n\u001b[1;32m    105\u001b[0m       \u001b[0;32mif\u001b[0m \u001b[0;34m'error'\u001b[0m \u001b[0;32min\u001b[0m \u001b[0mreply\u001b[0m\u001b[0;34m:\u001b[0m\u001b[0;34m\u001b[0m\u001b[0;34m\u001b[0m\u001b[0m\n\u001b[0;32m--> 106\u001b[0;31m         \u001b[0;32mraise\u001b[0m \u001b[0mMessageError\u001b[0m\u001b[0;34m(\u001b[0m\u001b[0mreply\u001b[0m\u001b[0;34m[\u001b[0m\u001b[0;34m'error'\u001b[0m\u001b[0;34m]\u001b[0m\u001b[0;34m)\u001b[0m\u001b[0;34m\u001b[0m\u001b[0;34m\u001b[0m\u001b[0m\n\u001b[0m\u001b[1;32m    107\u001b[0m       \u001b[0;32mreturn\u001b[0m \u001b[0mreply\u001b[0m\u001b[0;34m.\u001b[0m\u001b[0mget\u001b[0m\u001b[0;34m(\u001b[0m\u001b[0;34m'data'\u001b[0m\u001b[0;34m,\u001b[0m \u001b[0;32mNone\u001b[0m\u001b[0;34m)\u001b[0m\u001b[0;34m\u001b[0m\u001b[0;34m\u001b[0m\u001b[0m\n\u001b[1;32m    108\u001b[0m \u001b[0;34m\u001b[0m\u001b[0m\n",
            "\u001b[0;31mMessageError\u001b[0m: TypeError: Cannot read property '_uploadFiles' of undefined"
          ]
        }
      ]
    },
    {
      "cell_type": "markdown",
      "metadata": {
        "id": "NpKi3UIUDuZo",
        "colab_type": "text"
      },
      "source": [
        "### Hiển thị độ chính xác của mô hình"
      ]
    },
    {
      "cell_type": "code",
      "metadata": {
        "id": "-qXTOctxDsGZ",
        "colab_type": "code",
        "colab": {}
      },
      "source": [
        "import matplotlib.pyplot as plt\n",
        "\n",
        "#-----------------------------------------------------------\n",
        "# Retrieve a list of list results on training and test data\n",
        "# sets for each training epoch\n",
        "#-----------------------------------------------------------\n",
        "acc      = history.history[     'accuracy' ]\n",
        "val_acc  = history.history[ 'val_accuracy' ]\n",
        "loss     = history.history[    'loss' ]\n",
        "val_loss = history.history['val_loss' ]\n",
        "\n",
        "epochs   = range(len(acc)) # Get number of epochs\n",
        "\n",
        "#------------------------------------------------\n",
        "# Plot training and validation accuracy per epoch\n",
        "#------------------------------------------------\n",
        "plt.plot  ( epochs,     acc )\n",
        "plt.plot  ( epochs, val_acc )\n",
        "plt.title ('Training and validation accuracy')\n",
        "plt.figure()\n",
        "\n",
        "#------------------------------------------------\n",
        "# Plot training and validation loss per epoch\n",
        "#------------------------------------------------\n",
        "plt.plot  ( epochs,     loss )\n",
        "plt.plot  ( epochs, val_loss )\n",
        "plt.title ('Training and validation loss'   )"
      ],
      "execution_count": 0,
      "outputs": []
    }
  ]
}